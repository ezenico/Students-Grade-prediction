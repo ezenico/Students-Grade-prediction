{
 "cells": [
  {
   "cell_type": "code",
   "execution_count": 14,
   "id": "3ba31e45",
   "metadata": {},
   "outputs": [
    {
     "data": {
      "text/plain": [
       "'2.9.1'"
      ]
     },
     "execution_count": 14,
     "metadata": {},
     "output_type": "execute_result"
    }
   ],
   "source": [
    "import tensorflow as tf\n",
    "import pandas as pd\n",
    "import keras\n",
    "import sklearn\n",
    "import numpy as np\n",
    "from sklearn.model_selection import train_test_split\n",
    "from sklearn import linear_model\n",
    "from sklearn.utils import shuffle\n",
    "tf.__version__"
   ]
  },
  {
   "cell_type": "code",
   "execution_count": 5,
   "id": "af82c248",
   "metadata": {
    "scrolled": true
   },
   "outputs": [
    {
     "name": "stdout",
     "output_type": "stream",
     "text": [
      "    school sex  age address famsize Pstatus  Medu  Fedu      Mjob      Fjob  \\\n",
      "0       GP   F   18       U     GT3       A     4     4   at_home   teacher   \n",
      "1       GP   F   17       U     GT3       T     1     1   at_home     other   \n",
      "2       GP   F   15       U     LE3       T     1     1   at_home     other   \n",
      "3       GP   F   15       U     GT3       T     4     2    health  services   \n",
      "4       GP   F   16       U     GT3       T     3     3     other     other   \n",
      "..     ...  ..  ...     ...     ...     ...   ...   ...       ...       ...   \n",
      "390     MS   M   20       U     LE3       A     2     2  services  services   \n",
      "391     MS   M   17       U     LE3       T     3     1  services  services   \n",
      "392     MS   M   21       R     GT3       T     1     1     other     other   \n",
      "393     MS   M   18       R     LE3       T     3     2  services     other   \n",
      "394     MS   M   19       U     LE3       T     1     1     other   at_home   \n",
      "\n",
      "     ... famrel freetime  goout  Dalc  Walc health absences  G1  G2  G3  \n",
      "0    ...      4        3      4     1     1      3        6   5   6   6  \n",
      "1    ...      5        3      3     1     1      3        4   5   5   6  \n",
      "2    ...      4        3      2     2     3      3       10   7   8  10  \n",
      "3    ...      3        2      2     1     1      5        2  15  14  15  \n",
      "4    ...      4        3      2     1     2      5        4   6  10  10  \n",
      "..   ...    ...      ...    ...   ...   ...    ...      ...  ..  ..  ..  \n",
      "390  ...      5        5      4     4     5      4       11   9   9   9  \n",
      "391  ...      2        4      5     3     4      2        3  14  16  16  \n",
      "392  ...      5        5      3     3     3      3        3  10   8   7  \n",
      "393  ...      4        4      1     3     4      5        0  11  12  10  \n",
      "394  ...      3        2      3     3     3      5        5   8   9   9  \n",
      "\n",
      "[395 rows x 33 columns]\n"
     ]
    }
   ],
   "source": [
    "## Dataset selected and separeted by semi-colons\n",
    "\n",
    "data = pd.read_csv(\"student-mat.csv\", sep=\";\")\n",
    "print(data)"
   ]
  },
  {
   "cell_type": "code",
   "execution_count": 6,
   "id": "edf984c4",
   "metadata": {},
   "outputs": [
    {
     "name": "stdout",
     "output_type": "stream",
     "text": [
      "     G1  G2  G3  studytime  freetime  failures  absences\n",
      "0     5   6   6          2         3         0         6\n",
      "1     5   5   6          2         3         0         4\n",
      "2     7   8  10          2         3         3        10\n",
      "3    15  14  15          3         2         0         2\n",
      "4     6  10  10          2         3         0         4\n",
      "..   ..  ..  ..        ...       ...       ...       ...\n",
      "390   9   9   9          2         5         2        11\n",
      "391  14  16  16          1         4         0         3\n",
      "392  10   8   7          1         5         3         3\n",
      "393  11  12  10          1         4         0         0\n",
      "394   8   9   9          1         2         0         5\n",
      "\n",
      "[395 rows x 7 columns]\n"
     ]
    }
   ],
   "source": [
    "## We are going to use some of the data columns for our model\n",
    "data = data[[\"G1\", \"G2\", \"G3\",\"studytime\",\"freetime\",\"failures\",\"absences\"]]\n",
    "print(data)"
   ]
  },
  {
   "cell_type": "code",
   "execution_count": 27,
   "id": "e1eb046a",
   "metadata": {},
   "outputs": [],
   "source": [
    "## Defining the attributes and model selection\n",
    "predict = \"G3\"\n",
    "\n",
    "# X axis data corresponds to all the attributes except G3\n",
    "x = np.array(data.drop(predict,axis=1))\n",
    "\n",
    "# Y axis corresponds to the predict attribute G3\n",
    "y = np.array(data[predict])\n",
    "\n",
    "x_train, x_test, y_train, y_test = sklearn.model_selection.train_test_split(x,y, test_size= 0.2)\n"
   ]
  },
  {
   "cell_type": "code",
   "execution_count": 28,
   "id": "83b0e5a2",
   "metadata": {},
   "outputs": [
    {
     "name": "stdout",
     "output_type": "stream",
     "text": [
      "accuracy:  0.844932890669015\n",
      "Coefficient: \n",
      " [ 0.13757549  0.98495246 -0.13256402  0.17890386 -0.20219742  0.03299857]\n",
      "Intercept: \n",
      " -2.0373032400398365\n"
     ]
    }
   ],
   "source": [
    "# Linear Regression method applied\n",
    "\n",
    "# Declaring the model\n",
    "linear = linear_model.LinearRegression()\n",
    "\n",
    "# Applying the data to the model in order to find the best fit line\n",
    "linear.fit(x_train, y_train)\n",
    "\n",
    "# Testing the model and obtaining it´s accuracy\n",
    "acc = linear.score(x_test, y_test)\n",
    "print('accuracy: ', acc)\n",
    "\n",
    "# Constants obtained with the method\n",
    "print('Coefficient: \\n', linear.coef_)\n",
    "print('Intercept: \\n', linear.intercept_)\n",
    "\n",
    "predictions = linear.predict(x_test)"
   ]
  },
  {
   "cell_type": "code",
   "execution_count": 34,
   "id": "ab587de2",
   "metadata": {},
   "outputs": [
    {
     "name": "stdout",
     "output_type": "stream",
     "text": [
      "8.388383230471748 [10  9  4  4  0  0] 0\n",
      "6.42754289084775 [8 7 2 3 0 6] 9\n",
      "17.35858393073404 [16 17  2  4  0  0] 17\n",
      "7.214503955595925 [8 8 2 3 0 0] 9\n",
      "7.907645836917716 [8 9 2 1 0 2] 8\n",
      "9.969824602599132 [11 10  2  4  1 12] 10\n",
      "6.426085450388477 [ 6  7  2  4  1 15] 8\n",
      "18.643356145027298 [19 18  2  3  0  2] 18\n",
      "9.561304144299639 [ 8 10  2  4  0  6] 10\n",
      "15.433005057817759 [17 15  1  2  0  4] 16\n",
      "11.16756718428942 [13 11  3  4  0  8] 11\n",
      "10.826988816897527 [11 11  2  4  0  2] 10\n",
      "7.807762445323043 [6 9 1 2 1 4] 8\n",
      "4.835192717227702 [7 6 1 3 2 0] 0\n",
      "12.42322890551566 [14 12  1  4  0  4] 11\n",
      "8.586944379674868 [10  9  3  4  0  2] 9\n",
      "16.260724740638427 [16 16  2  3  0  2] 16\n",
      "12.133597148568539 [12 12  2  3  0 13] 13\n",
      "13.275617354694958 [14 13  2  4  0  4] 13\n",
      "15.572759376003091 [16 15  2  3  0 11] 15\n",
      "9.495307010891079 [ 8 10  2  4  0  4] 9\n",
      "14.843388510550607 [13 15  3  4  0  0] 15\n",
      "15.944245390627728 [15 16  2  2  0  2] 16\n",
      "7.9516348724166175 [10  8  2  3  0 14] 9\n",
      "-0.5275402727145582 [9 0 2 3 0 0] 0\n",
      "13.578185679696743 [15 13  2  4  0  9] 15\n",
      "-0.7563514129395719 [7 0 3 4 0 0] 0\n",
      "11.790270205494263 [12 12  1  2  0  4] 13\n",
      "8.98349692910367 [10  9  2  4  0 10] 10\n",
      "9.25736245213707 [10 10  2  3  1  0] 0\n",
      "-0.94026674715571 [6 0 2 3 0 0] 0\n",
      "10.348265209047815 [ 8 11  2  4  0  0] 11\n",
      "14.393133835463377 [14 14  1  4  0  4] 14\n",
      "7.044327665856796 [ 7  7  1  5  0 14] 5\n",
      "7.472430122422699 [10  8  1  5  3  3] 7\n",
      "5.958842234369684 [7 7 4 3 0 4] 6\n",
      "11.59170905629114 [12 12  2  2  0  2] 11\n",
      "12.714237012745384 [13 13  2  2  0  2] 13\n",
      "12.99683010456997 [12 13  1  4  1  6] 14\n",
      "12.136345724250926 [10 12  2  4  0 16] 11\n",
      "11.963023090383874 [11 12  2  3  0 12] 11\n",
      "-0.6934207977177929 [7 0 1 4 1 0] 0\n",
      "15.11295826884811 [14 15  3  4  0  4] 16\n",
      "12.47256643823292 [16 12  1  2  0  8] 13\n",
      "9.041252169399996 [ 6 10  2  3  0  4] 10\n",
      "-0.3849533055483503 [11  0  3  3  0  0] 0\n",
      "16.169489091893798 [15 16  3  4  0  2] 18\n",
      "8.35426424484073 [ 7 10  3  1  1  0] 10\n",
      "11.742625823803001 [13 12  3  3  0  1] 12\n",
      "13.95185052102633 [12 14  3  4  0  7] 14\n",
      "9.534051843259252 [ 8 10  1  2  0 12] 10\n",
      "9.184408885543641 [ 8 10  2  3  0  0] 12\n",
      "10.755410458825704 [10 11  2  4  0  4] 9\n",
      "13.753859120800648 [12 14  3  4  0  1] 15\n",
      "10.51050946688683 [10 11  2  3  0  2] 11\n",
      "8.474607403530552 [10  9  2  3  0  0] 9\n",
      "10.75985218553409 [11 11  4  4  0  8] 10\n",
      "6.247586299834971 [7 7 2 5 1 0] 0\n",
      "3.4244904442856123 [6 5 2 1 1 0] 0\n",
      "7.973642970326276 [8 9 2 1 0 4] 10\n",
      "14.1482328435245 [14 14  1  3  0  2] 14\n",
      "6.719923223477256 [8 7 1 5 0 0] 6\n",
      "10.017786926794788 [12 10  2  2  0 14] 11\n",
      "16.87322367356467 [17 17  4  2  0  0] 18\n",
      "-0.6287988728308354 [6 0 1 4 0 0] 0\n",
      "14.327136702054815 [14 14  1  4  0  2] 13\n",
      "7.935550695998504 [ 6  9  1  2  2 14] 8\n",
      "17.226019914939478 [16 17  3  4  0  0] 17\n",
      "14.51549376297934 [16 14  4  5  0  6] 15\n",
      "11.907618657324402 [13 12  3  3  0  6] 12\n",
      "10.356844123692584 [11 11  1  1  0  0] 10\n",
      "7.677859097977452 [ 9  8  2  3  1 16] 7\n",
      "13.99100006137131 [13 14  2  4  0  0] 15\n",
      "9.800707984873739 [12 10  2  3  0  2] 11\n",
      "10.449523809164093 [11 11  3  3  0  0] 10\n",
      "9.016660536808583 [ 9  9  1  2  0 22] 9\n",
      "14.128575552851693 [14 14  2  4  0  0] 14\n",
      "13.317515470722327 [13 13  1  5  0  0] 12\n",
      "9.55079551724904 [11 10  1  2  0  0] 10\n"
     ]
    }
   ],
   "source": [
    "# Getting each prediction from the model andout data\n",
    "predictions = linear.predict(x_test)\n",
    "\n",
    "for i in range(len(predictions)):\n",
    "    print(predictions[i], x_test[i], y_test[i])"
   ]
  }
 ],
 "metadata": {
  "kernelspec": {
   "display_name": "Python 3 (ipykernel)",
   "language": "python",
   "name": "python3"
  },
  "language_info": {
   "codemirror_mode": {
    "name": "ipython",
    "version": 3
   },
   "file_extension": ".py",
   "mimetype": "text/x-python",
   "name": "python",
   "nbconvert_exporter": "python",
   "pygments_lexer": "ipython3",
   "version": "3.8.0"
  }
 },
 "nbformat": 4,
 "nbformat_minor": 5
}
