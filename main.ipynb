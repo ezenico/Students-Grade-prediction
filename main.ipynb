{
 "cells": [
  {
   "cell_type": "code",
   "execution_count": 6,
   "id": "3ba31e45",
   "metadata": {},
   "outputs": [
    {
     "data": {
      "text/plain": [
       "'2.9.1'"
      ]
     },
     "execution_count": 6,
     "metadata": {},
     "output_type": "execute_result"
    }
   ],
   "source": [
    "import tensorflow as tf\n",
    "import pandas as pd\n",
    "import keras\n",
    "import sklearn\n",
    "import numpy as np\n",
    "from sklearn.model_selection import train_test_split\n",
    "from sklearn import linear_model\n",
    "from sklearn.utils import shuffle\n",
    "import matplotlib.pyplot as pyplot\n",
    "import pickle\n",
    "tf.__version__"
   ]
  },
  {
   "cell_type": "code",
   "execution_count": 7,
   "id": "af82c248",
   "metadata": {},
   "outputs": [
    {
     "name": "stdout",
     "output_type": "stream",
     "text": [
      "    school sex  age address famsize Pstatus  Medu  Fedu      Mjob      Fjob  \\\n",
      "0       GP   F   18       U     GT3       A     4     4   at_home   teacher   \n",
      "1       GP   F   17       U     GT3       T     1     1   at_home     other   \n",
      "2       GP   F   15       U     LE3       T     1     1   at_home     other   \n",
      "3       GP   F   15       U     GT3       T     4     2    health  services   \n",
      "4       GP   F   16       U     GT3       T     3     3     other     other   \n",
      "..     ...  ..  ...     ...     ...     ...   ...   ...       ...       ...   \n",
      "390     MS   M   20       U     LE3       A     2     2  services  services   \n",
      "391     MS   M   17       U     LE3       T     3     1  services  services   \n",
      "392     MS   M   21       R     GT3       T     1     1     other     other   \n",
      "393     MS   M   18       R     LE3       T     3     2  services     other   \n",
      "394     MS   M   19       U     LE3       T     1     1     other   at_home   \n",
      "\n",
      "     ... famrel freetime  goout  Dalc  Walc health absences  G1  G2  G3  \n",
      "0    ...      4        3      4     1     1      3        6   5   6   6  \n",
      "1    ...      5        3      3     1     1      3        4   5   5   6  \n",
      "2    ...      4        3      2     2     3      3       10   7   8  10  \n",
      "3    ...      3        2      2     1     1      5        2  15  14  15  \n",
      "4    ...      4        3      2     1     2      5        4   6  10  10  \n",
      "..   ...    ...      ...    ...   ...   ...    ...      ...  ..  ..  ..  \n",
      "390  ...      5        5      4     4     5      4       11   9   9   9  \n",
      "391  ...      2        4      5     3     4      2        3  14  16  16  \n",
      "392  ...      5        5      3     3     3      3        3  10   8   7  \n",
      "393  ...      4        4      1     3     4      5        0  11  12  10  \n",
      "394  ...      3        2      3     3     3      5        5   8   9   9  \n",
      "\n",
      "[395 rows x 33 columns]\n"
     ]
    }
   ],
   "source": [
    "## Dataset selected and separeted by semi-colons\n",
    "\n",
    "data = pd.read_csv(\"student-mat.csv\", sep=\";\")\n",
    "print(data)"
   ]
  },
  {
   "cell_type": "code",
   "execution_count": 8,
   "id": "edf984c4",
   "metadata": {
    "scrolled": true
   },
   "outputs": [
    {
     "name": "stdout",
     "output_type": "stream",
     "text": [
      "     G1  G2  G3  studytime  freetime  failures  absences\n",
      "0     5   6   6          2         3         0         6\n",
      "1     5   5   6          2         3         0         4\n",
      "2     7   8  10          2         3         3        10\n",
      "3    15  14  15          3         2         0         2\n",
      "4     6  10  10          2         3         0         4\n",
      "..   ..  ..  ..        ...       ...       ...       ...\n",
      "390   9   9   9          2         5         2        11\n",
      "391  14  16  16          1         4         0         3\n",
      "392  10   8   7          1         5         3         3\n",
      "393  11  12  10          1         4         0         0\n",
      "394   8   9   9          1         2         0         5\n",
      "\n",
      "[395 rows x 7 columns]\n"
     ]
    }
   ],
   "source": [
    "## We are going to use some of the data columns for our model\n",
    "data = data[[\"G1\", \"G2\", \"G3\",\"studytime\",\"freetime\",\"failures\",\"absences\"]]\n",
    "print(data)"
   ]
  },
  {
   "cell_type": "code",
   "execution_count": 9,
   "id": "e1eb046a",
   "metadata": {},
   "outputs": [],
   "source": [
    "## Defining the attributes and model selection\n",
    "predict = \"G3\"\n",
    "\n",
    "# X axis data corresponds to all the attributes except G3\n",
    "x = np.array(data.drop(predict,axis=1))\n",
    "\n",
    "# Y axis corresponds to the predict attribute G3\n",
    "y = np.array(data[predict])\n",
    "\n",
    "x_train, x_test, y_train, y_test = sklearn.model_selection.train_test_split(x,y, test_size= 0.2)\n"
   ]
  },
  {
   "cell_type": "code",
   "execution_count": 10,
   "id": "83b0e5a2",
   "metadata": {
    "scrolled": true
   },
   "outputs": [
    {
     "name": "stdout",
     "output_type": "stream",
     "text": [
      "accuracy:  0.83030822830614\n",
      "Coefficient: \n",
      " [ 0.12637645  1.00502353 -0.19162963  0.08357011 -0.28865749  0.03570574]\n",
      "Intercept: \n",
      " -1.717006833083806\n"
     ]
    }
   ],
   "source": [
    "# Linear Regression method applied\n",
    "\n",
    "# Declaring the model\n",
    "linear = linear_model.LinearRegression()\n",
    "\n",
    "# Applying the data to the model in order to find the best fit line\n",
    "linear.fit(x_train, y_train)\n",
    "\n",
    "# Testing the model and obtaining it´s accuracy\n",
    "acc = linear.score(x_test, y_test)\n",
    "print('accuracy: ', acc)\n",
    "\n",
    "# Constants obtained with the method\n",
    "print('Coefficient: \\n', linear.coef_)\n",
    "print('Intercept: \\n', linear.intercept_)\n",
    "\n",
    "predictions = linear.predict(x_test)"
   ]
  },
  {
   "cell_type": "code",
   "execution_count": 11,
   "id": "8e74994b",
   "metadata": {
    "scrolled": false
   },
   "outputs": [],
   "source": [
    "# Saving the model into a file \n",
    "with open(\"studentmodel.pickle\", \"wb\") as f:\n",
    "    pickle.dump(linear, f)"
   ]
  },
  {
   "cell_type": "code",
   "execution_count": 12,
   "id": "ab587de2",
   "metadata": {},
   "outputs": [
    {
     "name": "stdout",
     "output_type": "stream",
     "text": [
      "5.776727437778513 [6 7 2 1 0 0] 0\n",
      "11.906715024003464 [12 12  1  2  0  2] 11\n",
      "-1.0729801479483907 [7 0 3 4 0 0] 0\n",
      "10.154812949836778 [12 10  2  4  1 18] 10\n",
      "10.151666187876517 [11 10  1  4  0  8] 10\n",
      "20.236494723202377 [18 19  1  5  0 10] 19\n",
      "11.263403416349677 [11 12  3  3  1  4] 11\n",
      "14.48543179926123 [13 15  4  3  0  0] 15\n",
      "11.296120386629006 [12 12  4  2  0  1] 12\n",
      "13.14857784835704 [12 13  2  2  0 14] 12\n",
      "10.638650372805952 [12 11  2  2  0  0] 12\n",
      "11.87622529357366 [13 12  3  3  0  6] 12\n",
      "11.984856087414764 [15 12  2  5  1  0] 12\n",
      "12.626455282247472 [16 12  1  2  0  8] 13\n",
      "6.810514105793633 [7 8 4 1 0 8] 8\n",
      "13.573868895710591 [15 14  3  4  2  4] 15\n",
      "7.768648079751435 [ 9  8  2  4  0 10] 8\n",
      "7.331009308725781 [8 8 1 4 1 4] 8\n",
      "16.313967209355553 [18 16  3  3  0  0] 16\n",
      "5.878614472962728 [7 7 3 3 0 0] 8\n",
      "9.08118478768723 [10 10  4  3  0  0] 10\n",
      "5.208043545717701 [7 6 2 3 0 4] 6\n",
      "12.803679034148395 [12 13  2  3  0  2] 13\n",
      "10.620333446244503 [11 11  1  1  0  0] 10\n",
      "6.784342044483367 [9 8 1 2 3 6] 10\n",
      "17.34143758362312 [16 17  2  4  0  0] 17\n",
      "10.750825627982977 [11 11  2  4  0  2] 11\n",
      "5.077895180010254 [6 7 2 3 3 0] 0\n",
      "13.802702250532004 [13 14  3  2  0  6] 14\n",
      "12.92650518332595 [13 12  1  5  0 20] 12\n",
      "13.814860872016201 [13 14  3  3  0  4] 14\n",
      "13.217413844730824 [13 13  1  5  0  0] 12\n",
      "12.858643996216903 [13 13  2  3  0  0] 13\n",
      "15.553667868410509 [17 15  1  2  0  2] 15\n",
      "8.433060701919208 [8 9 2 4 0 4] 10\n",
      "8.492313567573579 [8 9 2 3 0 8] 10\n",
      "11.950625554002182 [12 12  2  4  1 12] 13\n",
      "9.798896655769541 [10 10  1  3  0  4] 10\n",
      "8.8975752755446 [10 10  3  2  2  8] 10\n",
      "11.607025870089448 [12 12  3  3  0  2] 11\n",
      "11.653962125589315 [10 12  1  2  0  2] 12\n",
      "8.339202373303632 [10  9  3  3  0  2] 10\n",
      "10.905807223744311 [11 11  2  5  0  4] 11\n",
      "9.379003540109858 [ 8 10  1  1  0  4] 10\n",
      "12.278743774609666 [14 12  1  3  0  3] 12\n",
      "-1.7297353249981262 [4 0 1 3 2 0] 0\n",
      "4.6795352193664295 [7 6 1 3 2 0] 0\n",
      "5.030791188340153 [ 6  6  2  2  1 13] 8\n",
      "14.073614086837297 [14 14  2  4  0  0] 14\n",
      "8.278079106157874 [8 9 2 3 0 2] 10\n",
      "17.764848481985354 [17 17  2  2  0 13] 17\n",
      "10.863173054214466 [10 11  1  2  0  8] 10\n",
      "11.914743730572107 [15 12  3  3  0  0] 14\n",
      "7.613461798652681 [7 9 4 2 0 0] 0\n",
      "8.233004664706518 [9 9 1 3 2 8] 9\n",
      "11.715085392735073 [12 12  2  2  0  2] 11\n",
      "14.138867268898613 [13 14  1  4  0  0] 13\n",
      "7.735755029611312 [11  8  2  4  0  2] 8\n",
      "4.926685500749292 [6 6 2 2 0 2] 6\n",
      "12.191418680619964 [12 12  2  3  0 13] 13\n",
      "7.403719926160258 [8 8 2 2 0 8] 6\n",
      "5.93656820832119 [7 7 2 4 1 2] 7\n",
      "15.60487784511208 [16 15  2  3  0 10] 15\n",
      "13.596305989687671 [13 13  2  2  0 23] 13\n",
      "18.142672863661083 [16 18  3  3  0  2] 18\n",
      "13.664937300724038 [12 14  3  4  0  1] 15\n",
      "3.9502671145129966 [5 5 2 3 0 4] 6\n",
      "11.876067304903353 [11 12  1  4  0  0] 10\n",
      "7.049270495515149 [ 9  7  2  4  0 18] 6\n",
      "15.05432037665946 [14 15  2  2  0  4] 15\n",
      "7.800780756508173 [7 9 2 4 2 6] 8\n",
      "9.409479088155505 [ 9 10  2  3  0  2] 10\n",
      "10.300284793223183 [ 8 11  2  4  0  0] 11\n",
      "12.15571293705068 [12 12  2  3  0 12] 11\n",
      "10.703903554867269 [11 11  1  2  0  0] 12\n",
      "16.377349989925477 [15 16  1  2  0  4] 15\n",
      "11.957925000705037 [11 12  2  3  0 10] 13\n",
      "7.984539669878231 [ 6  9  1  2  2 14] 8\n",
      "12.618207707957255 [13 13  4  3  0  4] 12\n"
     ]
    }
   ],
   "source": [
    "# Getting each prediction from the model andout data\n",
    "predictions = linear.predict(x_test)\n",
    "\n",
    "for i in range(len(predictions)):\n",
    "    print(predictions[i], x_test[i], y_test[i])"
   ]
  }
 ],
 "metadata": {
  "kernelspec": {
   "display_name": "Python 3 (ipykernel)",
   "language": "python",
   "name": "python3"
  },
  "language_info": {
   "codemirror_mode": {
    "name": "ipython",
    "version": 3
   },
   "file_extension": ".py",
   "mimetype": "text/x-python",
   "name": "python",
   "nbconvert_exporter": "python",
   "pygments_lexer": "ipython3",
   "version": "3.8.0"
  }
 },
 "nbformat": 4,
 "nbformat_minor": 5
}
