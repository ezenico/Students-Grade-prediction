{
 "cells": [
  {
   "cell_type": "code",
   "execution_count": 19,
   "id": "3ba31e45",
   "metadata": {},
   "outputs": [
    {
     "data": {
      "text/plain": [
       "'2.9.1'"
      ]
     },
     "execution_count": 19,
     "metadata": {},
     "output_type": "execute_result"
    }
   ],
   "source": [
    "import tensorflow as tf\n",
    "import pandas as pd\n",
    "import keras\n",
    "import sklearn\n",
    "import numpy as np\n",
    "from sklearn.model_selection import train_test_split\n",
    "from sklearn import linear_model\n",
    "from sklearn.utils import shuffle\n",
    "import matplotlib.pyplot as plt\n",
    "import matplotlib.animation as animation\n",
    "import pickle\n",
    "tf.__version__"
   ]
  },
  {
   "cell_type": "code",
   "execution_count": 9,
   "id": "af82c248",
   "metadata": {},
   "outputs": [
    {
     "name": "stdout",
     "output_type": "stream",
     "text": [
      "    school sex  age address famsize Pstatus  Medu  Fedu      Mjob      Fjob  \\\n",
      "0       GP   F   18       U     GT3       A     4     4   at_home   teacher   \n",
      "1       GP   F   17       U     GT3       T     1     1   at_home     other   \n",
      "2       GP   F   15       U     LE3       T     1     1   at_home     other   \n",
      "3       GP   F   15       U     GT3       T     4     2    health  services   \n",
      "4       GP   F   16       U     GT3       T     3     3     other     other   \n",
      "..     ...  ..  ...     ...     ...     ...   ...   ...       ...       ...   \n",
      "390     MS   M   20       U     LE3       A     2     2  services  services   \n",
      "391     MS   M   17       U     LE3       T     3     1  services  services   \n",
      "392     MS   M   21       R     GT3       T     1     1     other     other   \n",
      "393     MS   M   18       R     LE3       T     3     2  services     other   \n",
      "394     MS   M   19       U     LE3       T     1     1     other   at_home   \n",
      "\n",
      "     ... famrel freetime  goout  Dalc  Walc health absences  G1  G2  G3  \n",
      "0    ...      4        3      4     1     1      3        6   5   6   6  \n",
      "1    ...      5        3      3     1     1      3        4   5   5   6  \n",
      "2    ...      4        3      2     2     3      3       10   7   8  10  \n",
      "3    ...      3        2      2     1     1      5        2  15  14  15  \n",
      "4    ...      4        3      2     1     2      5        4   6  10  10  \n",
      "..   ...    ...      ...    ...   ...   ...    ...      ...  ..  ..  ..  \n",
      "390  ...      5        5      4     4     5      4       11   9   9   9  \n",
      "391  ...      2        4      5     3     4      2        3  14  16  16  \n",
      "392  ...      5        5      3     3     3      3        3  10   8   7  \n",
      "393  ...      4        4      1     3     4      5        0  11  12  10  \n",
      "394  ...      3        2      3     3     3      5        5   8   9   9  \n",
      "\n",
      "[395 rows x 33 columns]\n"
     ]
    }
   ],
   "source": [
    "## Dataset selected and separeted by semi-colons\n",
    "\n",
    "data = pd.read_csv(\"student-mat.csv\", sep=\";\")\n",
    "print(data)"
   ]
  },
  {
   "cell_type": "code",
   "execution_count": 10,
   "id": "edf984c4",
   "metadata": {
    "scrolled": true
   },
   "outputs": [
    {
     "name": "stdout",
     "output_type": "stream",
     "text": [
      "     G1  G2  G3  studytime  freetime  failures  absences\n",
      "0     5   6   6          2         3         0         6\n",
      "1     5   5   6          2         3         0         4\n",
      "2     7   8  10          2         3         3        10\n",
      "3    15  14  15          3         2         0         2\n",
      "4     6  10  10          2         3         0         4\n",
      "..   ..  ..  ..        ...       ...       ...       ...\n",
      "390   9   9   9          2         5         2        11\n",
      "391  14  16  16          1         4         0         3\n",
      "392  10   8   7          1         5         3         3\n",
      "393  11  12  10          1         4         0         0\n",
      "394   8   9   9          1         2         0         5\n",
      "\n",
      "[395 rows x 7 columns]\n"
     ]
    }
   ],
   "source": [
    "## We are going to use some of the data columns for our model\n",
    "data = data[[\"G1\", \"G2\", \"G3\",\"studytime\",\"freetime\",\"failures\",\"absences\"]]\n",
    "print(data)"
   ]
  },
  {
   "cell_type": "code",
   "execution_count": 38,
   "id": "e1eb046a",
   "metadata": {},
   "outputs": [],
   "source": [
    "## Defining the attributes and model selection\n",
    "predict = \"G3\"\n",
    "\n",
    "# X axis data corresponds to all the attributes except G3\n",
    "x = np.array(data.drop(predict,axis=1))\n",
    "\n",
    "# Y axis corresponds to the predict attribute G3\n",
    "y = np.array(data[predict])\n",
    "\n",
    "x_train, x_test, y_train, y_test = sklearn.model_selection.train_test_split(x,y, test_size= 0.2)\n"
   ]
  },
  {
   "cell_type": "code",
   "execution_count": 41,
   "id": "ac06820f",
   "metadata": {},
   "outputs": [
    {
     "name": "stdout",
     "output_type": "stream",
     "text": [
      "     G2  failures  G3\n",
      "0     6         0   6\n",
      "1     5         0   6\n",
      "2     8         3  10\n",
      "3    14         0  15\n",
      "4    10         0  10\n",
      "..   ..       ...  ..\n",
      "390   9         2   9\n",
      "391  16         0  16\n",
      "392   8         3   7\n",
      "393  12         0  10\n",
      "394   9         0   9\n",
      "\n",
      "[395 rows x 3 columns]\n"
     ]
    },
    {
     "data": {
      "image/png": "[encoded data removed]",
      "text/plain": [
       "<Figure size 432x288 with 1 Axes>"
      ]
     },
     "metadata": {
      "needs_background": "light"
     },
     "output_type": "display_data"
    }
   ],
   "source": [
    "# Plot of the data\n",
    "\n",
    "fig = plt.figure()\n",
    "ax = fig.add_subplot(projection='3d')\n",
    "\n",
    "ax.set_xlabel('G2')\n",
    "ax.set_ylabel('failures')\n",
    "ax.set_zlabel('G3')\n",
    "\n",
    "data_plot = data[[\"G2\", \"failures\", \"G3\"]]\n",
    "print(data_plot)\n",
    "\n",
    "ax.scatter(data_plot[\"G2\"], data_plot[\"failures\"], data_plot[\"G3\"])\n",
    "ax.view_init(45,45)\n",
    "\n",
    "#for G1, failures, G3 in data_plot:\n",
    "    "
   ]
  },
  {
   "cell_type": "code",
   "execution_count": 39,
   "id": "83b0e5a2",
   "metadata": {
    "scrolled": true
   },
   "outputs": [
    {
     "name": "stdout",
     "output_type": "stream",
     "text": [
      "accuracy:  0.8596759814078434\n",
      "Coefficient: \n",
      " [ 0.1781522   0.95416493 -0.17439813  0.14951967 -0.32844448  0.03945021]\n",
      "Intercept: \n",
      " -1.9483475870158102\n"
     ]
    }
   ],
   "source": [
    "# Linear Regression method applied\n",
    "\n",
    "# Declaring the model\n",
    "linear = linear_model.LinearRegression()\n",
    "\n",
    "# Applying the data to the model in order to find the best fit line\n",
    "linear.fit(x_train, y_train)\n",
    "\n",
    "# Testing the model and obtaining it´s accuracy\n",
    "acc = linear.score(x_test, y_test)\n",
    "print('accuracy: ', acc)\n",
    "\n",
    "# Constants obtained with the method\n",
    "print('Coefficient: \\n', linear.coef_)\n",
    "print('Intercept: \\n', linear.intercept_)\n",
    "\n",
    "predictions = linear.predict(x_test)"
   ]
  },
  {
   "cell_type": "code",
   "execution_count": null,
   "id": "8e74994b",
   "metadata": {
    "scrolled": false
   },
   "outputs": [],
   "source": [
    "# Saving the model into a file \n",
    "with open(\"studentmodel.pickle\", \"wb\") as f:\n",
    "    pickle.dump(linear, f)"
   ]
  },
  {
   "cell_type": "code",
   "execution_count": null,
   "id": "ab587de2",
   "metadata": {},
   "outputs": [],
   "source": [
    "# Getting each prediction from the model andout data\n",
    "predictions = linear.predict(x_test)\n",
    "\n",
    "for i in range(len(predictions)):\n",
    "    print(predictions[i], x_test[i], y_test[i])"
   ]
  }
 ],
 "metadata": {
  "kernelspec": {
   "display_name": "Python 3 (ipykernel)",
   "language": "python",
   "name": "python3"
  },
  "language_info": {
   "codemirror_mode": {
    "name": "ipython",
    "version": 3
   },
   "file_extension": ".py",
   "mimetype": "text/x-python",
   "name": "python",
   "nbconvert_exporter": "python",
   "pygments_lexer": "ipython3",
   "version": "3.8.0"
  }
 },
 "nbformat": 4,
 "nbformat_minor": 5
}
